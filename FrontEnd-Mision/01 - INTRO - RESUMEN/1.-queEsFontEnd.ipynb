{
 "cells": [
  {
   "cell_type": "markdown",
   "metadata": {},
   "source": [
    "# ¿Qué es FrontEnd?\n",
    "# UI/UX\n",
    "## Para eso existe el UI/UX, el cual se refiere a User Interface (Interfaz de usuario) y User experience (Experiencia de usuario), estas son las partes más importantes del diseño de una web, y SIEMPRE se tienen que realizar antes de empezar a programar.\n",
    "\n",
    "https://github.com/LaunchX-InnovaccionVirtual/FrontEnd-Mision/raw/main/01%20-%20INTRO/images/uxui.jpg\n",
    "\n",
    "# Patrones de arquitectura de desarrollo Web\n",
    "# MVC (Model View Controller)\n",
    "\n",
    "## Hablaremos de uno de los patrones de diseño web más utilizados y con el cual podremos tener muchísimo más claro el funcionamiento de todo el FrontEnd, la parte a la que nos referimos para el Front es la parte de la \"Vista\".\n",
    "\n",
    "https://github.com/LaunchX-InnovaccionVirtual/FrontEnd-Mision/raw/main/01%20-%20INTRO/images/mvc.png\n",
    "\n",
    "## MVC se refiere a la separación de la interfaz de usuario (Vista) de la parte de datos y de negocio (Modelo), la cual está intermediada por un controlador (Controller); el controlador realiza las validaciones, sanitizaciones de datos, manejo de errores, entre varias otras cosas que permiten que los datos que se mandan desde la vista, lleguen de forma más ordenada y limpia a su procesamiento en el backend que es donde se encuentra el modelo.\n",
    "\n",
    "## Así como este patrón de diseño arquitectónico existen algunos otros como MVVM(Model View View Model), MVP (Model View Presenter), RMR (Resource Method Representation) y se recomienda que utilices el que sea mejor para tu aplicación."
   ]
  }
 ],
 "metadata": {
  "language_info": {
   "name": "python"
  },
  "orig_nbformat": 4
 },
 "nbformat": 4,
 "nbformat_minor": 2
}
